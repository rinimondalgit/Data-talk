{
 "cells": [
  {
   "cell_type": "code",
   "execution_count": 105,
   "id": "3a5c7a28-1688-43da-8f3c-a0a2bab8064b",
   "metadata": {},
   "outputs": [],
   "source": [
    "import pandas as pd\n",
    "import numpy as np\n",
    "\n",
    "from sklearn.model_selection import train_test_split, KFold\n",
    "from sklearn.metrics import roc_auc_score\n",
    "from sklearn.feature_extraction import DictVectorizer\n",
    "from sklearn.linear_model import LogisticRegression\n",
    "\n",
    "import seaborn as sns\n",
    "import matplotlib.pyplot as plt\n",
    "import mplcyberpunk\n",
    "from sklearn.metrics import  roc_auc_score, auc\n",
    "from sklearn.metrics import precision_score, recall_score\n",
    "\n",
    "plt.style.use('cyberpunk')"
   ]
  },
  {
   "cell_type": "markdown",
   "id": "999d8731-518d-443c-96d6-4e564aac3e7c",
   "metadata": {},
   "source": [
    "#Downloading the dataset"
   ]
  },
  {
   "cell_type": "code",
   "execution_count": 107,
   "id": "edde77c6-5033-4c30-bc2c-9b8763100cfc",
   "metadata": {},
   "outputs": [
    {
     "data": {
      "text/html": [
       "<div>\n",
       "<style scoped>\n",
       "    .dataframe tbody tr th:only-of-type {\n",
       "        vertical-align: middle;\n",
       "    }\n",
       "\n",
       "    .dataframe tbody tr th {\n",
       "        vertical-align: top;\n",
       "    }\n",
       "\n",
       "    .dataframe thead th {\n",
       "        text-align: right;\n",
       "    }\n",
       "</style>\n",
       "<table border=\"1\" class=\"dataframe\">\n",
       "  <thead>\n",
       "    <tr style=\"text-align: right;\">\n",
       "      <th></th>\n",
       "      <th>lead_source</th>\n",
       "      <th>industry</th>\n",
       "      <th>number_of_courses_viewed</th>\n",
       "      <th>annual_income</th>\n",
       "      <th>employment_status</th>\n",
       "      <th>location</th>\n",
       "      <th>interaction_count</th>\n",
       "      <th>lead_score</th>\n",
       "      <th>converted</th>\n",
       "    </tr>\n",
       "  </thead>\n",
       "  <tbody>\n",
       "    <tr>\n",
       "      <th>0</th>\n",
       "      <td>paid_ads</td>\n",
       "      <td>NaN</td>\n",
       "      <td>1</td>\n",
       "      <td>79450.0</td>\n",
       "      <td>unemployed</td>\n",
       "      <td>south_america</td>\n",
       "      <td>4</td>\n",
       "      <td>0.94</td>\n",
       "      <td>1</td>\n",
       "    </tr>\n",
       "    <tr>\n",
       "      <th>1</th>\n",
       "      <td>social_media</td>\n",
       "      <td>retail</td>\n",
       "      <td>1</td>\n",
       "      <td>46992.0</td>\n",
       "      <td>employed</td>\n",
       "      <td>south_america</td>\n",
       "      <td>1</td>\n",
       "      <td>0.80</td>\n",
       "      <td>0</td>\n",
       "    </tr>\n",
       "    <tr>\n",
       "      <th>2</th>\n",
       "      <td>events</td>\n",
       "      <td>healthcare</td>\n",
       "      <td>5</td>\n",
       "      <td>78796.0</td>\n",
       "      <td>unemployed</td>\n",
       "      <td>australia</td>\n",
       "      <td>3</td>\n",
       "      <td>0.69</td>\n",
       "      <td>1</td>\n",
       "    </tr>\n",
       "    <tr>\n",
       "      <th>3</th>\n",
       "      <td>paid_ads</td>\n",
       "      <td>retail</td>\n",
       "      <td>2</td>\n",
       "      <td>83843.0</td>\n",
       "      <td>NaN</td>\n",
       "      <td>australia</td>\n",
       "      <td>1</td>\n",
       "      <td>0.87</td>\n",
       "      <td>0</td>\n",
       "    </tr>\n",
       "    <tr>\n",
       "      <th>4</th>\n",
       "      <td>referral</td>\n",
       "      <td>education</td>\n",
       "      <td>3</td>\n",
       "      <td>85012.0</td>\n",
       "      <td>self_employed</td>\n",
       "      <td>europe</td>\n",
       "      <td>3</td>\n",
       "      <td>0.62</td>\n",
       "      <td>1</td>\n",
       "    </tr>\n",
       "  </tbody>\n",
       "</table>\n",
       "</div>"
      ],
      "text/plain": [
       "    lead_source    industry  number_of_courses_viewed  annual_income  \\\n",
       "0      paid_ads         NaN                         1        79450.0   \n",
       "1  social_media      retail                         1        46992.0   \n",
       "2        events  healthcare                         5        78796.0   \n",
       "3      paid_ads      retail                         2        83843.0   \n",
       "4      referral   education                         3        85012.0   \n",
       "\n",
       "  employment_status       location  interaction_count  lead_score  converted  \n",
       "0        unemployed  south_america                  4        0.94          1  \n",
       "1          employed  south_america                  1        0.80          0  \n",
       "2        unemployed      australia                  3        0.69          1  \n",
       "3               NaN      australia                  1        0.87          0  \n",
       "4     self_employed         europe                  3        0.62          1  "
      ]
     },
     "execution_count": 107,
     "metadata": {},
     "output_type": "execute_result"
    }
   ],
   "source": [
    "df = pd.read_csv(\"course_lead_scoring.csv\")\n",
    "df.head(5)"
   ]
  },
  {
   "cell_type": "markdown",
   "id": "1681d83d-b909-4a73-95b3-f1b107d73027",
   "metadata": {},
   "source": [
    "Data preparation\n",
    "Check if the missing values are presented in the features.\n",
    "If there are missing values:\n",
    "For caterogiral features, replace them with 'NA'\n",
    "For numerical features, replace with with 0.0\n",
    "Split the data into 3 parts: train/validation/test with 60%/20%/20% distribution. Use train_test_split function for that with random_state=1"
   ]
  },
  {
   "cell_type": "markdown",
   "id": "0adc042e-519e-417a-87b7-3b2eb153f468",
   "metadata": {},
   "source": [
    "# Check for missing values in df."
   ]
  },
  {
   "cell_type": "code",
   "execution_count": 110,
   "id": "460484c4-6beb-4b14-b90b-3f5d11bb56d4",
   "metadata": {},
   "outputs": [
    {
     "data": {
      "text/plain": [
       "lead_source                 128\n",
       "industry                    134\n",
       "number_of_courses_viewed      0\n",
       "annual_income               181\n",
       "employment_status           100\n",
       "location                     63\n",
       "interaction_count             0\n",
       "lead_score                    0\n",
       "converted                     0\n",
       "dtype: int64"
      ]
     },
     "execution_count": 110,
     "metadata": {},
     "output_type": "execute_result"
    }
   ],
   "source": [
    "df.isna().sum()"
   ]
  },
  {
   "cell_type": "markdown",
   "id": "1ddec43d-d3c3-408f-8f00-26a41aa9e02a",
   "metadata": {},
   "source": [
    "Data preparation Check if the missing values are presented in the features. If there are missing values: For caterogiral features, replace them with 'NA' For numerical features, replace with with 0.0"
   ]
  },
  {
   "cell_type": "code",
   "execution_count": 112,
   "id": "5df32df3-f17c-46c7-aee5-d6d1c7501b12",
   "metadata": {},
   "outputs": [],
   "source": [
    "df = df.fillna({col: 'NA' if df[col].dtype == 'object' else 0.0 for col in df.columns})"
   ]
  },
  {
   "cell_type": "markdown",
   "id": "f58f643c-aa37-412d-9274-f057edb70d58",
   "metadata": {},
   "source": [
    "Split the data into 3 parts: train/validation/test with 60%/20%/20% distribution. Use train_test_split function for that with random_state=1"
   ]
  },
  {
   "cell_type": "code",
   "execution_count": 114,
   "id": "63b8b315-f78e-45e8-8f87-64d55822bd39",
   "metadata": {},
   "outputs": [
    {
     "name": "stdout",
     "output_type": "stream",
     "text": [
      "Training set: (877, 9)\n",
      "Validation set: (292, 9)\n",
      "Test set: (293, 9)\n"
     ]
    }
   ],
   "source": [
    "# Split 60% train, 40% temp (which we'll later split into 20% val, 20% test)\n",
    "train_df, temp_df = train_test_split(df, test_size=0.4, random_state=1)\n",
    "\n",
    "# Split the 40% temp into 20% val and 20% test (each 50% of the temp data)\n",
    "val_df, test_df = train_test_split(temp_df, test_size=0.5, random_state=1)\n",
    "\n",
    "# Print the shapes to verify the split\n",
    "print(\"Training set:\", train_df.shape)\n",
    "print(\"Validation set:\", val_df.shape)\n",
    "print(\"Test set:\", test_df.shape)"
   ]
  },
  {
   "cell_type": "markdown",
   "id": "08037b08-8db0-4507-9e80-43e5d36dfc5d",
   "metadata": {},
   "source": [
    "Question 1: ROC AUC feature importance\n",
    "ROC AUC could also be used to evaluate feature importance of numerical variables.\n",
    "\n",
    "Let's do that\n",
    "\n",
    "For each numerical variable, use it as score (aka prediction) and compute the AUC with the y variable as ground truth.\n",
    "Use the training dataset for that\n",
    "If your AUC is < 0.5, invert this variable by putting \"-\" in front\n",
    "\n",
    "(e.g. -df_train['balance'])\n",
    "\n",
    "AUC can go below 0.5 if the variable is negatively correlated with the target variable. You can change the direction of the correlation by negating this variable - then negative correlation becomes positive.\n",
    "\n",
    "Which numerical variable (among the following 4) has the highest AUC?\n",
    "\n",
    "lead_score\n",
    "number_of_courses_viewed\n",
    "interaction_count\n",
    "annual_income"
   ]
  },
  {
   "cell_type": "code",
   "execution_count": 116,
   "id": "8e0c71d8-9747-4d78-8148-0919d68c5461",
   "metadata": {},
   "outputs": [
    {
     "name": "stdout",
     "output_type": "stream",
     "text": [
      "\n",
      "AUC Scores:\n",
      "lead_score: 0.6111\n",
      "number_of_courses_viewed: 0.7652\n",
      "interaction_count: 0.7272\n",
      "annual_income: 0.5446\n",
      "\n",
      "🏆 Highest AUC Feature: number_of_courses_viewed\n"
     ]
    }
   ],
   "source": [
    "y = train_df['converted'].astype(int).values  # ensure 1D numpy array\n",
    "num_vars = ['lead_score', 'number_of_courses_viewed', 'interaction_count', 'annual_income']\n",
    "\n",
    "auc_scores = {}\n",
    "\n",
    "for col in num_vars:\n",
    "    # Make sure feature column is numeric 1D array\n",
    "    x = pd.to_numeric(train_df[col], errors='coerce').fillna(0).astype(float).values\n",
    "\n",
    "    # Check that both y and x are 1D arrays of same length\n",
    "    if x.ndim != 1 or y.ndim != 1:\n",
    "        raise ValueError(f\"{col} or y is not 1D: x.shape={x.shape}, y.shape={y.shape}\")\n",
    "    if len(x) != len(y):\n",
    "        raise ValueError(f\"Length mismatch: len(x)={len(x)}, len(y)={len(y)}\")\n",
    "\n",
    "    # Compute AUC\n",
    "    auc = roc_auc_score(y, x)\n",
    "\n",
    "    # Invert if AUC < 0.5\n",
    "    if auc < 0.5:\n",
    "        x = -x\n",
    "        auc = roc_auc_score(y, x)\n",
    "        print(f\"Inverted {col} due to negative correlation.\")\n",
    "\n",
    "    auc_scores[col] = auc\n",
    "\n",
    "# Display results\n",
    "print(\"\\nAUC Scores:\")\n",
    "for col, score in auc_scores.items():\n",
    "    print(f\"{col}: {score:.4f}\")\n",
    "\n",
    "best_feature = max(auc_scores, key=auc_scores.get)\n",
    "print(f\"\\n🏆 Highest AUC Feature: {best_feature}\")"
   ]
  },
  {
   "cell_type": "markdown",
   "id": "73e43c8e-a219-4a2b-bf71-6d58502f35d0",
   "metadata": {},
   "source": [
    "Question 2: Training the model\n",
    "Apply one-hot-encoding using DictVectorizer and train the logistic regression with these parameters:\n",
    "\n",
    "LogisticRegression(solver='liblinear', C=1.0, max_iter=1000)\n",
    "What's the AUC of this model on the validation dataset? (round to 3 digits)\n",
    "\n",
    "0.32\n",
    "0.52\n",
    "0.72\n",
    "0.92"
   ]
  },
  {
   "cell_type": "code",
   "execution_count": 118,
   "id": "cb622344-0549-4739-92a5-ff42a7700f74",
   "metadata": {},
   "outputs": [
    {
     "name": "stdout",
     "output_type": "stream",
     "text": [
      "\n",
      "AUC on validation set: 0.794\n"
     ]
    }
   ],
   "source": [
    "\n",
    "\n",
    "# Prepare the data ---\n",
    "# Define target column\n",
    "target = 'converted'\n",
    "\n",
    "# Separate target from features\n",
    "y_train = train_df[target].astype(int).values\n",
    "y_val = val_df[target].astype(int).values\n",
    "\n",
    "X_train = train_df.drop(columns=[target])\n",
    "X_val = val_df.drop(columns=[target])\n",
    "\n",
    "#  One-hot encoding using DictVectorizer ---\n",
    "# Convert DataFrame to a list of dictionaries (for DictVectorizer)\n",
    "train_dicts = X_train.to_dict(orient='records')\n",
    "val_dicts = X_val.to_dict(orient='records')\n",
    "\n",
    "# Initialize and fit the vectorizer\n",
    "dv = DictVectorizer(sparse=False)\n",
    "X_train_encoded = dv.fit_transform(train_dicts)\n",
    "X_val_encoded = dv.transform(val_dicts)\n",
    "\n",
    "#  Train Logistic Regression model ---\n",
    "model = LogisticRegression(solver='liblinear', C=1.0, max_iter=1000)\n",
    "model.fit(X_train_encoded, y_train)\n",
    "\n",
    "# Evaluate model ---\n",
    "y_pred_val = model.predict_proba(X_val_encoded)[:, 1]\n",
    "auc = roc_auc_score(y_val, y_pred_val)\n",
    "\n",
    "print(f\"\\nAUC on validation set: {auc:.3f}\")\n"
   ]
  },
  {
   "cell_type": "markdown",
   "id": "69cae6d8-7a54-40a8-81dd-228f35077ff3",
   "metadata": {},
   "source": [
    "Question 3: Precision and Recall\n",
    "Now let's compute precision and recall for our model.\n",
    "\n",
    "Evaluate the model on all thresholds from 0.0 to 1.0 with step 0.01\n",
    "For each threshold, compute precision and recall\n",
    "Plot them\n",
    "At which threshold precision and recall curves intersect?\n",
    "\n",
    "0.145\n",
    "0.345\n",
    "0.545\n",
    "0.745"
   ]
  },
  {
   "cell_type": "code",
   "execution_count": 120,
   "id": "59e44b93-fab7-43cb-883d-579277dd89a7",
   "metadata": {},
   "outputs": [
    {
     "name": "stderr",
     "output_type": "stream",
     "text": [
      "C:\\Users\\rinim\\anaconda3\\Lib\\site-packages\\sklearn\\metrics\\_classification.py:1509: UndefinedMetricWarning: Precision is ill-defined and being set to 0.0 due to no predicted samples. Use `zero_division` parameter to control this behavior.\n",
      "  _warn_prf(average, modifier, f\"{metric.capitalize()} is\", len(result))\n",
      "C:\\Users\\rinim\\anaconda3\\Lib\\site-packages\\sklearn\\metrics\\_classification.py:1509: UndefinedMetricWarning: Precision is ill-defined and being set to 0.0 due to no predicted samples. Use `zero_division` parameter to control this behavior.\n",
      "  _warn_prf(average, modifier, f\"{metric.capitalize()} is\", len(result))\n"
     ]
    },
    {
     "data": {
      "image/png": "[encoded data removed]",
      "text/plain": [
       "<Figure size 800x500 with 1 Axes>"
      ]
     },
     "metadata": {},
     "output_type": "display_data"
    },
    {
     "name": "stdout",
     "output_type": "stream",
     "text": [
      "\n",
      "Precision and Recall intersect around threshold: 0.590\n"
     ]
    }
   ],
   "source": [
    "\n",
    "\n",
    "# Get prediction probabilities from  trained model ---\n",
    "y_scores = model.predict_proba(X_val_encoded)[:, 1]\n",
    "y_true = y_val\n",
    "\n",
    "#  Evaluate across thresholds ---\n",
    "thresholds = np.arange(0.0, 1.01, 0.01)\n",
    "precisions = []\n",
    "recalls = []\n",
    "\n",
    "for t in thresholds:\n",
    "    y_pred = (y_scores >= t).astype(int)\n",
    "    precisions.append(precision_score(y_true, y_pred))\n",
    "    recalls.append(recall_score(y_true, y_pred))\n",
    "\n",
    "#  Plot Precision and Recall ---\n",
    "plt.figure(figsize=(8, 5))\n",
    "plt.plot(thresholds, precisions, label='Precision', linewidth=2)\n",
    "plt.plot(thresholds, recalls, label='Recall', linewidth=2)\n",
    "plt.xlabel('Threshold')\n",
    "plt.ylabel('Score')\n",
    "plt.title('Precision–Recall vs. Threshold')\n",
    "plt.legend()\n",
    "plt.grid(True)\n",
    "plt.show()\n",
    "\n",
    "# Find intersection threshold ---\n",
    "# Compute absolute difference between precision and recall at each threshold\n",
    "diff = np.abs(np.array(precisions) - np.array(recalls))\n",
    "best_idx = np.argmin(diff)\n",
    "intersection_threshold = thresholds[best_idx]\n",
    "\n",
    "print(f\"\\nPrecision and Recall intersect around threshold: {intersection_threshold:.3f}\")\n"
   ]
  },
  {
   "cell_type": "code",
   "execution_count": 121,
   "id": "7d7c53e4-cb47-4948-a99f-864bfcc7c785",
   "metadata": {},
   "outputs": [],
   "source": [
    "from sklearn.metrics import precision_score, recall_score"
   ]
  },
  {
   "cell_type": "markdown",
   "id": "e052f40e-8358-4188-8b8e-91a59e20f4d9",
   "metadata": {},
   "source": [
    "Question 4: F1 score\n",
    "Precision and recall are conflicting - when one grows, the other goes down. That's why they are often combined into the F1 score - a metrics that takes into account both\n",
    "\n",
    "This is the formula for computing F1:\n",
    "\n",
    "F\n",
    "1\n",
    "=\n",
    "2\n",
    "⋅\n",
    "P\n",
    "⋅\n",
    "R\n",
    "P\n",
    "+\n",
    "R\n",
    "\n",
    "Where \n",
    "P\n",
    " is precision and \n",
    "R\n",
    " is recall.\n",
    "\n",
    "Let's compute F1 for all thresholds from 0.0 to 1.0 with increment 0.01\n",
    "\n",
    "At which threshold F1 is maximal?\n",
    "\n",
    "0.14\n",
    "0.34\n",
    "0.54\n",
    "0.74"
   ]
  },
  {
   "cell_type": "code",
   "execution_count": 122,
   "id": "ec8c029d-6996-4c2b-a89a-af2ea995a76d",
   "metadata": {},
   "outputs": [
    {
     "data": {
      "image/png": "[encoded data removed]",
      "text/plain": [
       "<Figure size 800x500 with 1 Axes>"
      ]
     },
     "metadata": {},
     "output_type": "display_data"
    },
    {
     "name": "stdout",
     "output_type": "stream",
     "text": [
      "\n",
      "✅ Maximum F1 = 0.848 at threshold = 0.470\n"
     ]
    }
   ],
   "source": [
    "\n",
    "\n",
    "# Compute precision & recall across thresholds ---\n",
    "thresholds = np.arange(0.0, 1.01, 0.01)\n",
    "precisions, recalls, f1_scores = [], [], []\n",
    "\n",
    "for t in thresholds:\n",
    "    y_pred = (y_scores >= t).astype(int)\n",
    "    p = precision_score(y_true, y_pred, zero_division=0)\n",
    "    r = recall_score(y_true, y_pred)\n",
    "    precisions.append(p)\n",
    "    recalls.append(r)\n",
    "    # Compute F1 score safely\n",
    "    f1 = 0 if (p + r) == 0 else 2 * p * r / (p + r)\n",
    "    f1_scores.append(f1)\n",
    "\n",
    "# Plot F1 vs threshold ---\n",
    "plt.figure(figsize=(8, 5))\n",
    "plt.plot(thresholds, f1_scores, label='F1 Score', color='purple', linewidth=2)\n",
    "plt.xlabel('Threshold')\n",
    "plt.ylabel('F1 Score')\n",
    "plt.title('F1 Score vs Threshold')\n",
    "plt.grid(True)\n",
    "plt.legend()\n",
    "plt.show()\n",
    "\n",
    "# Find the threshold with maximum F1 ---\n",
    "best_idx = np.argmax(f1_scores)\n",
    "best_threshold = thresholds[best_idx]\n",
    "best_f1 = f1_scores[best_idx]\n",
    "\n",
    "print(f\"\\n✅ Maximum F1 = {best_f1:.3f} at threshold = {best_threshold:.3f}\")\n"
   ]
  },
  {
   "cell_type": "markdown",
   "id": "ca6720f9-5185-437f-873b-290a6830eead",
   "metadata": {},
   "source": [
    "Question 5: 5-Fold CV\n",
    "Use the KFold class from Scikit-Learn to evaluate our model on 5 different folds:\n",
    "\n",
    "KFold(n_splits=5, shuffle=True, random_state=1)\n",
    "Iterate over different folds of df_full_train\n",
    "Split the data into train and validation\n",
    "Train the model on train with these parameters: LogisticRegression(solver='liblinear', C=1.0, max_iter=1000)\n",
    "Use AUC to evaluate the model on validation\n",
    "How large is standard deviation of the scores across different folds?\n",
    "\n",
    "0.0001\n",
    "0.006\n",
    "0.06\n",
    "0.36"
   ]
  },
  {
   "cell_type": "code",
   "execution_count": 124,
   "id": "39aa1e67-b3a3-481d-a62a-0204d7d43e4a",
   "metadata": {},
   "outputs": [
    {
     "name": "stdout",
     "output_type": "stream",
     "text": [
      "Fold AUC: 0.807\n",
      "Fold AUC: 0.807\n",
      "Fold AUC: 0.865\n",
      "Fold AUC: 0.833\n",
      "Fold AUC: 0.815\n",
      "\n",
      "Mean AUC across folds: 0.825\n",
      "Standard deviation of AUC: 0.022\n"
     ]
    }
   ],
   "source": [
    "\n",
    "from sklearn.feature_extraction import DictVectorizer\n",
    "\n",
    "# Prepare data ---\n",
    "df_full_train = pd.concat([train_df, val_df])  # Combine train + val for full training data\n",
    "y_full = df_full_train['converted'].astype(int).values\n",
    "df_full = df_full_train.drop(columns=['converted'])\n",
    "\n",
    "#  Initialize KFold ---\n",
    "kf = KFold(n_splits=5, shuffle=True, random_state=1)\n",
    "\n",
    "# Store AUCs for each fold ---\n",
    "aucs = []\n",
    "\n",
    "for train_idx, val_idx in kf.split(df_full):\n",
    "    # Split data\n",
    "    df_train = df_full.iloc[train_idx]\n",
    "    df_val = df_full.iloc[val_idx]\n",
    "    y_train = y_full[train_idx]\n",
    "    y_val = y_full[val_idx]\n",
    "\n",
    "    # One-hot encode using DictVectorizer\n",
    "    dv = DictVectorizer(sparse=False)\n",
    "    X_train = dv.fit_transform(df_train.to_dict(orient='records'))\n",
    "    X_val = dv.transform(df_val.to_dict(orient='records'))\n",
    "\n",
    "    # Train logistic regression model\n",
    "    model = LogisticRegression(solver='liblinear', C=1.0, max_iter=1000)\n",
    "    model.fit(X_train, y_train)\n",
    "\n",
    "    # Evaluate on validation set\n",
    "    y_pred = model.predict_proba(X_val)[:, 1]\n",
    "    auc = roc_auc_score(y_val, y_pred)\n",
    "    aucs.append(auc)\n",
    "\n",
    "    print(f\"Fold AUC: {auc:.3f}\")\n",
    "\n",
    "#  Calculate mean & std deviation ---\n",
    "mean_auc = np.mean(aucs)\n",
    "std_auc = np.std(aucs)\n",
    "\n",
    "print(f\"\\nMean AUC across folds: {mean_auc:.3f}\")\n",
    "print(f\"Standard deviation of AUC: {std_auc:.3f}\")\n",
    "\n",
    "\n"
   ]
  },
  {
   "cell_type": "markdown",
   "id": "e74a179d-ee88-4fc9-ad8a-aa2f783175d6",
   "metadata": {},
   "source": [
    "Question 6: Hyperparameter Tuning\n",
    "Now let's use 5-Fold cross-validation to find the best parameter C\n",
    "\n",
    "Iterate over the following C values: [0.000001, 0.001, 1]\n",
    "Initialize KFold with the same parameters as previously\n",
    "Use these parameters for the model: LogisticRegression(solver='liblinear', C=C, max_iter=1000)\n",
    "Compute the mean score as well as the std (round the mean and std to 3 decimal digits)\n",
    "Which C leads to the best mean score?\n",
    "\n",
    "0.000001\n",
    "0.001\n",
    "1\n",
    "If you have ties, select the score with the lowest std. If you still have ties, select the smallest C."
   ]
  },
  {
   "cell_type": "code",
   "execution_count": 126,
   "id": "0ac405a7-8eb2-437b-9291-859f2f8be112",
   "metadata": {},
   "outputs": [
    {
     "name": "stdout",
     "output_type": "stream",
     "text": [
      "C=1e-06 -> Mean AUC=0.543, Std=0.025\n",
      "C=0.001 -> Mean AUC=0.864, Std=0.014\n",
      "C=1 -> Mean AUC=0.825, Std=0.022\n",
      "\n",
      "Cross-validation results:\n",
      "          C  Mean_AUC  Std_AUC\n",
      "0  0.000001     0.543    0.025\n",
      "1  0.001000     0.864    0.014\n",
      "2  1.000000     0.825    0.022\n",
      "\n",
      "🏆 Best parameter: C=0.001, Mean AUC=0.864, Std=0.014\n"
     ]
    }
   ],
   "source": [
    "\n",
    "\n",
    "# Prepare data ---\n",
    "df_full_train = pd.concat([train_df, val_df])\n",
    "y_full = df_full_train['converted'].astype(int).values\n",
    "df_full = df_full_train.drop(columns=['converted'])\n",
    "\n",
    "# Initialize KFold ---\n",
    "kf = KFold(n_splits=5, shuffle=True, random_state=1)\n",
    "\n",
    "#  Candidate C values ---\n",
    "C_values = [0.000001, 0.001, 1]\n",
    "results = []\n",
    "\n",
    "#  Evaluate each C using 5-fold CV ---\n",
    "for C in C_values:\n",
    "    aucs = []\n",
    "    \n",
    "    for train_idx, val_idx in kf.split(df_full):\n",
    "        # Split folds\n",
    "        df_train = df_full.iloc[train_idx]\n",
    "        df_val = df_full.iloc[val_idx]\n",
    "        y_train = y_full[train_idx]\n",
    "        y_val = y_full[val_idx]\n",
    "\n",
    "        # One-hot encode using DictVectorizer\n",
    "        dv = DictVectorizer(sparse=False)\n",
    "        X_train = dv.fit_transform(df_train.to_dict(orient='records'))\n",
    "        X_val = dv.transform(df_val.to_dict(orient='records'))\n",
    "\n",
    "        # Train model\n",
    "        model = LogisticRegression(solver='liblinear', C=C, max_iter=1000)\n",
    "        model.fit(X_train, y_train)\n",
    "\n",
    "        # Evaluate on validation\n",
    "        y_pred = model.predict_proba(X_val)[:, 1]\n",
    "        auc = roc_auc_score(y_val, y_pred)\n",
    "        aucs.append(auc)\n",
    "\n",
    "    # Compute mean & std\n",
    "    mean_auc = np.mean(aucs)\n",
    "    std_auc = np.std(aucs)\n",
    "\n",
    "    results.append((C, round(mean_auc, 3), round(std_auc, 3)))\n",
    "    print(f\"C={C} -> Mean AUC={mean_auc:.3f}, Std={std_auc:.3f}\")\n",
    "\n",
    "# Select best C ---\n",
    "results_df = pd.DataFrame(results, columns=['C', 'Mean_AUC', 'Std_AUC'])\n",
    "best_row = results_df.sort_values(['Mean_AUC', 'Std_AUC', 'C'], ascending=[False, True, True]).iloc[0]\n",
    "\n",
    "print(\"\\nCross-validation results:\")\n",
    "print(results_df)\n",
    "print(f\"\\n🏆 Best parameter: C={best_row.C}, Mean AUC={best_row.Mean_AUC}, Std={best_row.Std_AUC}\")\n"
   ]
  },
  {
   "cell_type": "code",
   "execution_count": null,
   "id": "07084267-2136-4132-ae63-e7a5585cede5",
   "metadata": {},
   "outputs": [],
   "source": []
  }
 ],
 "metadata": {
  "kernelspec": {
   "display_name": "Python 3 (ipykernel)",
   "language": "python",
   "name": "python3"
  },
  "language_info": {
   "codemirror_mode": {
    "name": "ipython",
    "version": 3
   },
   "file_extension": ".py",
   "mimetype": "text/x-python",
   "name": "python",
   "nbconvert_exporter": "python",
   "pygments_lexer": "ipython3",
   "version": "3.12.4"
  }
 },
 "nbformat": 4,
 "nbformat_minor": 5
}
