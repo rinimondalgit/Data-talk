{
 "cells": [
  {
   "cell_type": "code",
   "execution_count": 9,
   "id": "a0342197-9913-49fc-98d2-91a9a82522c4",
   "metadata": {},
   "outputs": [],
   "source": [
    "import numpy as np\n",
    "import pandas as pd\n",
    "import matplotlib.pyplot as plt\n",
    "import seaborn as sns\n",
    "\n",
    "%matplotlib inline"
   ]
  },
  {
   "cell_type": "code",
   "execution_count": 10,
   "id": "2e4d3b4e-e2e6-4595-bbb1-3c4a37b95e02",
   "metadata": {},
   "outputs": [
    {
     "data": {
      "text/html": [
       "<div>\n",
       "<style scoped>\n",
       "    .dataframe tbody tr th:only-of-type {\n",
       "        vertical-align: middle;\n",
       "    }\n",
       "\n",
       "    .dataframe tbody tr th {\n",
       "        vertical-align: top;\n",
       "    }\n",
       "\n",
       "    .dataframe thead th {\n",
       "        text-align: right;\n",
       "    }\n",
       "</style>\n",
       "<table border=\"1\" class=\"dataframe\">\n",
       "  <thead>\n",
       "    <tr style=\"text-align: right;\">\n",
       "      <th></th>\n",
       "      <th>Laptop</th>\n",
       "      <th>Status</th>\n",
       "      <th>Brand</th>\n",
       "      <th>Model</th>\n",
       "      <th>CPU</th>\n",
       "      <th>RAM</th>\n",
       "      <th>Storage</th>\n",
       "      <th>Storage type</th>\n",
       "      <th>GPU</th>\n",
       "      <th>Screen</th>\n",
       "      <th>Touch</th>\n",
       "      <th>Final Price</th>\n",
       "    </tr>\n",
       "  </thead>\n",
       "  <tbody>\n",
       "    <tr>\n",
       "      <th>0</th>\n",
       "      <td>ASUS ExpertBook B1 B1502CBA-EJ0436X Intel Core...</td>\n",
       "      <td>New</td>\n",
       "      <td>Asus</td>\n",
       "      <td>ExpertBook</td>\n",
       "      <td>Intel Core i5</td>\n",
       "      <td>8</td>\n",
       "      <td>512</td>\n",
       "      <td>SSD</td>\n",
       "      <td>NaN</td>\n",
       "      <td>15.6</td>\n",
       "      <td>No</td>\n",
       "      <td>1009.00</td>\n",
       "    </tr>\n",
       "    <tr>\n",
       "      <th>1</th>\n",
       "      <td>Alurin Go Start Intel Celeron N4020/8GB/256GB ...</td>\n",
       "      <td>New</td>\n",
       "      <td>Alurin</td>\n",
       "      <td>Go</td>\n",
       "      <td>Intel Celeron</td>\n",
       "      <td>8</td>\n",
       "      <td>256</td>\n",
       "      <td>SSD</td>\n",
       "      <td>NaN</td>\n",
       "      <td>15.6</td>\n",
       "      <td>No</td>\n",
       "      <td>299.00</td>\n",
       "    </tr>\n",
       "    <tr>\n",
       "      <th>2</th>\n",
       "      <td>ASUS ExpertBook B1 B1502CBA-EJ0424X Intel Core...</td>\n",
       "      <td>New</td>\n",
       "      <td>Asus</td>\n",
       "      <td>ExpertBook</td>\n",
       "      <td>Intel Core i3</td>\n",
       "      <td>8</td>\n",
       "      <td>256</td>\n",
       "      <td>SSD</td>\n",
       "      <td>NaN</td>\n",
       "      <td>15.6</td>\n",
       "      <td>No</td>\n",
       "      <td>789.00</td>\n",
       "    </tr>\n",
       "    <tr>\n",
       "      <th>3</th>\n",
       "      <td>MSI Katana GF66 12UC-082XES Intel Core i7-1270...</td>\n",
       "      <td>New</td>\n",
       "      <td>MSI</td>\n",
       "      <td>Katana</td>\n",
       "      <td>Intel Core i7</td>\n",
       "      <td>16</td>\n",
       "      <td>1000</td>\n",
       "      <td>SSD</td>\n",
       "      <td>RTX 3050</td>\n",
       "      <td>15.6</td>\n",
       "      <td>No</td>\n",
       "      <td>1199.00</td>\n",
       "    </tr>\n",
       "    <tr>\n",
       "      <th>4</th>\n",
       "      <td>HP 15S-FQ5085NS Intel Core i5-1235U/16GB/512GB...</td>\n",
       "      <td>New</td>\n",
       "      <td>HP</td>\n",
       "      <td>15S</td>\n",
       "      <td>Intel Core i5</td>\n",
       "      <td>16</td>\n",
       "      <td>512</td>\n",
       "      <td>SSD</td>\n",
       "      <td>NaN</td>\n",
       "      <td>15.6</td>\n",
       "      <td>No</td>\n",
       "      <td>669.01</td>\n",
       "    </tr>\n",
       "  </tbody>\n",
       "</table>\n",
       "</div>"
      ],
      "text/plain": [
       "                                              Laptop Status   Brand  \\\n",
       "0  ASUS ExpertBook B1 B1502CBA-EJ0436X Intel Core...    New    Asus   \n",
       "1  Alurin Go Start Intel Celeron N4020/8GB/256GB ...    New  Alurin   \n",
       "2  ASUS ExpertBook B1 B1502CBA-EJ0424X Intel Core...    New    Asus   \n",
       "3  MSI Katana GF66 12UC-082XES Intel Core i7-1270...    New     MSI   \n",
       "4  HP 15S-FQ5085NS Intel Core i5-1235U/16GB/512GB...    New      HP   \n",
       "\n",
       "        Model            CPU  RAM  Storage Storage type       GPU  Screen  \\\n",
       "0  ExpertBook  Intel Core i5    8      512          SSD       NaN    15.6   \n",
       "1          Go  Intel Celeron    8      256          SSD       NaN    15.6   \n",
       "2  ExpertBook  Intel Core i3    8      256          SSD       NaN    15.6   \n",
       "3      Katana  Intel Core i7   16     1000          SSD  RTX 3050    15.6   \n",
       "4         15S  Intel Core i5   16      512          SSD       NaN    15.6   \n",
       "\n",
       "  Touch  Final Price  \n",
       "0    No      1009.00  \n",
       "1    No       299.00  \n",
       "2    No       789.00  \n",
       "3    No      1199.00  \n",
       "4    No       669.01  "
      ]
     },
     "execution_count": 10,
     "metadata": {},
     "output_type": "execute_result"
    }
   ],
   "source": [
    "dataset=pd.read_csv('https://raw.githubusercontent.com/alexeygrigorev/datasets/master/laptops.csv')\n",
    "dataset.head()"
   ]
  },
  {
   "cell_type": "code",
   "execution_count": 13,
   "id": "2071c90e-8a4d-4dc9-bf8a-f00bb9faf857",
   "metadata": {},
   "outputs": [],
   "source": [
    "df=dataset\n"
   ]
  },
  {
   "cell_type": "code",
   "execution_count": 15,
   "id": "2261f87f-4fe5-43c4-bf21-b7cfd967dec7",
   "metadata": {},
   "outputs": [],
   "source": [
    "df.columns = df.columns.str.lower().str.replace(' ', '_')\n",
    "\n"
   ]
  },
  {
   "cell_type": "code",
   "execution_count": 37,
   "id": "bcac25e2-863d-40d9-b838-b7d596162f0f",
   "metadata": {},
   "outputs": [
    {
     "data": {
      "text/plain": [
       "laptop           object\n",
       "status           object\n",
       "brand            object\n",
       "model            object\n",
       "cpu              object\n",
       "ram               int64\n",
       "storage           int64\n",
       "storage_type     object\n",
       "gpu              object\n",
       "screen          float64\n",
       "touch            object\n",
       "final_price     float64\n",
       "dtype: object"
      ]
     },
     "execution_count": 37,
     "metadata": {},
     "output_type": "execute_result"
    }
   ],
   "source": [
    "df.dtypes"
   ]
  },
  {
   "cell_type": "code",
   "execution_count": 17,
   "id": "467cf743-5a7a-453f-95b4-e674ecaa7072",
   "metadata": {},
   "outputs": [],
   "source": [
    "df = df.drop(['laptop', 'status','brand','model','cpu','storage_type','gpu','touch'], axis=1)\n",
    "\n"
   ]
  },
  {
   "cell_type": "code",
   "execution_count": 19,
   "id": "b3d87788-c616-4b91-9d2c-f5fd062c34b2",
   "metadata": {},
   "outputs": [
    {
     "data": {
      "text/plain": [
       "ram            0\n",
       "storage        0\n",
       "screen         4\n",
       "final_price    0\n",
       "dtype: int64"
      ]
     },
     "execution_count": 19,
     "metadata": {},
     "output_type": "execute_result"
    }
   ],
   "source": [
    "df.isnull().sum()"
   ]
  },
  {
   "cell_type": "code",
   "execution_count": null,
   "id": "a16a7f08-6921-4ac6-bc98-d62874ae8d22",
   "metadata": {},
   "outputs": [],
   "source": [
    "#Q1: 'The column with missing values is: screen'"
   ]
  },
  {
   "cell_type": "code",
   "execution_count": 23,
   "id": "8bc4b9f2-4bea-413a-a357-6366b3b9d469",
   "metadata": {},
   "outputs": [
    {
     "data": {
      "text/plain": [
       "<Axes: xlabel='final_price', ylabel='Count'>"
      ]
     },
     "execution_count": 23,
     "metadata": {},
     "output_type": "execute_result"
    },
    {
     "data": {
      "image/png": "[encoded data removed]",
      "text/plain": [
       "<Figure size 640x480 with 1 Axes>"
      ]
     },
     "metadata": {},
     "output_type": "display_data"
    }
   ],
   "source": [
    "sns.histplot(df.final_price, bins=50)"
   ]
  },
  {
   "cell_type": "code",
   "execution_count": null,
   "id": "531928f9-c153-4fd6-ac3b-425b9d3fbd60",
   "metadata": {},
   "outputs": [],
   "source": [
    "#EDA\n",
    "Look at the final_price variable. Does it have a long tail?\n",
    "yes, it does have long tail\n"
   ]
  },
  {
   "cell_type": "code",
   "execution_count": 31,
   "id": "8c3169d3-2f7f-41c6-a43b-857c480d8075",
   "metadata": {},
   "outputs": [
    {
     "data": {
      "text/plain": [
       "\"The median for 'ram' is: 16\""
      ]
     },
     "execution_count": 31,
     "metadata": {},
     "output_type": "execute_result"
    }
   ],
   "source": [
    "#Q2\n",
    "f\"The median for 'ram' is: {df['ram'].median():.0f}\""
   ]
  },
  {
   "cell_type": "code",
   "execution_count": 56,
   "id": "133c0475-b936-4c3a-9105-679cabe696c4",
   "metadata": {},
   "outputs": [],
   "source": [
    "n = len(df)\n",
    "n_val = int(n*0.2)\n",
    "n_test = int(n*0.2)\n",
    "n_train = n - n_val - n_test"
   ]
  },
  {
   "cell_type": "code",
   "execution_count": 58,
   "id": "0c95dcd6-133f-467e-90e4-8e8abf2cf847",
   "metadata": {},
   "outputs": [
    {
     "data": {
      "text/plain": [
       "(432, 432, 1296)"
      ]
     },
     "execution_count": 58,
     "metadata": {},
     "output_type": "execute_result"
    }
   ],
   "source": [
    "n_val,n_test,n_train"
   ]
  },
  {
   "cell_type": "code",
   "execution_count": 60,
   "id": "2bfe441b-2e27-45c7-90cc-5f368e64fc0e",
   "metadata": {},
   "outputs": [],
   "source": [
    "idx = np.arange(n)"
   ]
  },
  {
   "cell_type": "code",
   "execution_count": 62,
   "id": "a98c0a1e-e8c7-4aa9-9356-9f10993a6eb8",
   "metadata": {},
   "outputs": [],
   "source": [
    "np.random.seed(42)\n",
    "np.random.shuffle(idx)"
   ]
  },
  {
   "cell_type": "code",
   "execution_count": 64,
   "id": "d0e99316-77c1-475f-b11c-539b386abfe1",
   "metadata": {},
   "outputs": [
    {
     "data": {
      "text/plain": [
       "(864, 432, 432)"
      ]
     },
     "execution_count": 64,
     "metadata": {},
     "output_type": "execute_result"
    }
   ],
   "source": [
    "len(df_train ),len(df_val),len(df_test)"
   ]
  },
  {
   "cell_type": "code",
   "execution_count": 89,
   "id": "cfe8b1fb-8b94-431b-9142-a0ee3a1299aa",
   "metadata": {},
   "outputs": [],
   "source": [
    "#Prepare and Split the Dataset\n",
    "def prep_X_y(df, fillna_method, seed=42):\n",
    "    \"\"\"\n",
    "    fillna_method can either be \"mean\" or 0\n",
    "    \"\"\"\n",
    "    n = len(df)\n",
    "    n_val = n_test =  int(0.2 * n)\n",
    "    n_train = n - n_val - n_test\n",
    "\n",
    "    idx = np.arange(n)\n",
    "    np.random.seed(seed)\n",
    "    np.random.shuffle(idx)\n",
    "\n",
    "    df = (\n",
    "        df\n",
    "        .assign(\n",
    "            screen=df[\"screen\"].fillna(df.loc[idx[:n_train], \"screen\"].mean() if fillna_method==\"mean\" else 0)\n",
    "        )\n",
    "        .assign(\n",
    "            \n",
    "        )\n",
    "    )\n",
    "\n",
    "    X = df.drop(columns=\"final_price\").values\n",
    "    X = np.column_stack([np.ones(X.shape[0]), X])\n",
    "\n",
    "    y = df[\"final_price\"].values\n",
    "\n",
    "    X_train = X[idx[:n_train]]\n",
    "    X_val = X[idx[n_train:n_train+n_val]]\n",
    "    X_test = X[idx[n_train+n_val:]]\n",
    "    \n",
    "    y_train = y[idx[:n_train]]\n",
    "    y_val = y[idx[n_train:n_train+n_val]]\n",
    "    y_test = y[idx[n_train+n_val:]]\n",
    "\n",
    "    return (X_train, X_val, X_test, y_train, y_val, y_test)"
   ]
  },
  {
   "cell_type": "code",
   "execution_count": 91,
   "id": "478061c4-ab8e-4299-b21b-935b689ef9f6",
   "metadata": {},
   "outputs": [],
   "source": [
    "#Q3\n",
    "def train_linear_regression(X, y, r=0):\n",
    "    \"\"\"By default no regularization is applied. \n",
    "    Set r to nonzero value for regularization.\"\"\"\n",
    "    return np.linalg.inv(X.T @ X + r * np.eye(X.shape[1])) @ X.T @ y\n",
    "\n",
    "def rmse(y, y_hat):\n",
    "    return np.sqrt(((y_hat - y) ** 2).mean())"
   ]
  },
  {
   "cell_type": "code",
   "execution_count": 95,
   "id": "0db8f507-050f-4479-b57b-1f3929faa270",
   "metadata": {},
   "outputs": [
    {
     "name": "stdout",
     "output_type": "stream",
     "text": [
      "RMSE for option to fill with 0 is: 597.36\n",
      "RMSE for option to fill with mean is: 600.27\n"
     ]
    }
   ],
   "source": [
    "# fillna with 0\n",
    "X_train, X_val, X_test, y_train, y_val, y_test = prep_X_y(df, fillna_method=0)\n",
    "w = train_linear_regression(X_train, y_train)\n",
    "y_hat_val = X_val @ w\n",
    "\n",
    "print(f\"RMSE for option to fill with 0 is: {round(rmse(y_val, y_hat_val), 2)}\")\n",
    "\n",
    "# fillna with mean\n",
    "X_train, X_val, X_test, y_train, y_val, y_test = prep_X_y(df, \"mean\")\n",
    "w = train_linear_regression(X_train, y_train)\n",
    "y_hat_val = X_val @ w\n",
    "\n",
    "print(f\"RMSE for option to fill with mean is: {round(rmse(y_val, y_hat_val), 2)}\")"
   ]
  },
  {
   "cell_type": "code",
   "execution_count": 97,
   "id": "1ccf50b6-5e5c-4bfa-ba52-455b0d6e4cb2",
   "metadata": {},
   "outputs": [
    {
     "name": "stdout",
     "output_type": "stream",
     "text": [
      "RMSE for r=0: 597.36\n",
      "RMSE for r=0.01: 597.36\n",
      "RMSE for r=0.1: 597.35\n",
      "RMSE for r=1: 597.21\n",
      "RMSE for r=5: 597.01\n",
      "RMSE for r=10: 597.06\n",
      "RMSE for r=100: 597.90\n"
     ]
    }
   ],
   "source": [
    "#q4\n",
    "r_list = [0, 0.01, 0.1, 1, 5, 10, 100]\n",
    "rmse_list = []\n",
    "\n",
    "for r in r_list:\n",
    "    X_train, X_val, X_test, y_train, y_val, y_test = prep_X_y(df, fillna_method=0)\n",
    "    w = train_linear_regression(X_train, y_train, r)\n",
    "    y_hat_val = X_val @ w\n",
    "   \n",
    "    rmse_list.append(round(rmse(y_val, y_hat_val), 2))\n",
    "    print(f\"RMSE for r={r}: {rmse_list[-1]:.2f}\")"
   ]
  },
  {
   "cell_type": "code",
   "execution_count": 99,
   "id": "55676c1c-0875-490d-8b60-b4a97aebdcb4",
   "metadata": {},
   "outputs": [
    {
     "name": "stdout",
     "output_type": "stream",
     "text": [
      "The standard deviation of all the scores is: 29.176\n"
     ]
    }
   ],
   "source": [
    "#Q5\n",
    "seed_list = range(10)\n",
    "rmse_list = []\n",
    "\n",
    "for seed in seed_list:\n",
    "    X_train, X_val, X_test, y_train, y_val, y_test = prep_X_y(df, fillna_method=0, seed=seed)\n",
    "    w = train_linear_regression(X_train, y_train)\n",
    "    y_hat_val = X_val @ w\n",
    "   \n",
    "    rmse_list.append(round(rmse(y_val, y_hat_val), 2))\n",
    "\n",
    "print(f\"The standard deviation of all the scores is: {np.std(rmse_list):.3f}\")"
   ]
  },
  {
   "cell_type": "code",
   "execution_count": 101,
   "id": "e54fe023-5a52-40af-98a2-11d5808100ba",
   "metadata": {},
   "outputs": [
    {
     "name": "stdout",
     "output_type": "stream",
     "text": [
      "608.61\n"
     ]
    }
   ],
   "source": [
    "#Q6\n",
    "X_train, X_val, X_test, y_train, y_val, y_test = prep_X_y(df, fillna_method=0, seed=9)\n",
    "X_train_val = np.vstack([X_train, X_val])\n",
    "y_train_val = np.hstack([y_train, y_val])\n",
    "w = train_linear_regression(X_train_val, y_train_val, r=0.001)\n",
    "y_hat_test = X_test @ w\n",
    "print(round(rmse(y_test, y_hat_test), 2))"
   ]
  },
  {
   "cell_type": "code",
   "execution_count": 151,
   "id": "cdd53a18-6b29-4f7d-aed2-2faffd3fc96b",
   "metadata": {},
   "outputs": [],
   "source": []
  },
  {
   "cell_type": "code",
   "execution_count": 165,
   "id": "b290cf44-73b0-4421-9c33-6d4ccd73467a",
   "metadata": {},
   "outputs": [],
   "source": []
  },
  {
   "cell_type": "code",
   "execution_count": null,
   "id": "d7da11ec-2fa5-4f97-99b6-9523924658f8",
   "metadata": {},
   "outputs": [],
   "source": []
  }
 ],
 "metadata": {
  "kernelspec": {
   "display_name": "anaconda-panel-2023.05-py310",
   "language": "python",
   "name": "conda-env-anaconda-panel-2023.05-py310-py"
  },
  "language_info": {
   "codemirror_mode": {
    "name": "ipython",
    "version": 3
   },
   "file_extension": ".py",
   "mimetype": "text/x-python",
   "name": "python",
   "nbconvert_exporter": "python",
   "pygments_lexer": "ipython3",
   "version": "3.11.5"
  }
 },
 "nbformat": 4,
 "nbformat_minor": 5
}
